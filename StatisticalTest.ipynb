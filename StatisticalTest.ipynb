{
 "cells": [
  {
   "cell_type": "code",
   "execution_count": 1,
   "metadata": {},
   "outputs": [],
   "source": [
    "# clear environment variables\n",
    "rm(list = ls())\n",
    "\n",
    "# set working directory\n",
    "#setwd(\"\")\n",
    "\n",
    "options(scipen=999) # avoids scintific notation in output"
   ]
  },
  {
   "cell_type": "code",
   "execution_count": 2,
   "metadata": {},
   "outputs": [
    {
     "data": {
      "text/html": [
       "<ol class=list-inline>\n",
       "\t<li>'VISA_CLASS'</li>\n",
       "\t<li>'AGENT_REPRESENTING_EMPLOYER'</li>\n",
       "\t<li>'TOTAL_WORKERS'</li>\n",
       "\t<li>'NEW_EMPLOYMENT'</li>\n",
       "\t<li>'CONTINUED_EMPLOYMENT'</li>\n",
       "\t<li>'CHANGE_PREVIOUS_EMPLOYMENT'</li>\n",
       "\t<li>'NEW_CONCURRENT_EMPLOYMENT'</li>\n",
       "\t<li>'CHANGE_EMPLOYER'</li>\n",
       "\t<li>'AMENDED_PETITION'</li>\n",
       "\t<li>'FULL_TIME_POSITION'</li>\n",
       "\t<li>'PW_WAGE_LEVEL'</li>\n",
       "\t<li>'PW_SOURCE'</li>\n",
       "\t<li>'WAGE_RATE_OF_PAY_FROM'</li>\n",
       "\t<li>'H1B_DEPENDENT'</li>\n",
       "\t<li>'WILLFUL_VIOLATOR'</li>\n",
       "\t<li>'SUPPORT_H1B'</li>\n",
       "\t<li>'LABOR_CON_AGREE'</li>\n",
       "\t<li>'CASE_STATUS'</li>\n",
       "\t<li>'BUFFER_DAYS'</li>\n",
       "\t<li>'BUFFER_DAYS_BOOL'</li>\n",
       "\t<li>'ABOVE_PW'</li>\n",
       "</ol>\n"
      ],
      "text/latex": [
       "\\begin{enumerate*}\n",
       "\\item 'VISA\\_CLASS'\n",
       "\\item 'AGENT\\_REPRESENTING\\_EMPLOYER'\n",
       "\\item 'TOTAL\\_WORKERS'\n",
       "\\item 'NEW\\_EMPLOYMENT'\n",
       "\\item 'CONTINUED\\_EMPLOYMENT'\n",
       "\\item 'CHANGE\\_PREVIOUS\\_EMPLOYMENT'\n",
       "\\item 'NEW\\_CONCURRENT\\_EMPLOYMENT'\n",
       "\\item 'CHANGE\\_EMPLOYER'\n",
       "\\item 'AMENDED\\_PETITION'\n",
       "\\item 'FULL\\_TIME\\_POSITION'\n",
       "\\item 'PW\\_WAGE\\_LEVEL'\n",
       "\\item 'PW\\_SOURCE'\n",
       "\\item 'WAGE\\_RATE\\_OF\\_PAY\\_FROM'\n",
       "\\item 'H1B\\_DEPENDENT'\n",
       "\\item 'WILLFUL\\_VIOLATOR'\n",
       "\\item 'SUPPORT\\_H1B'\n",
       "\\item 'LABOR\\_CON\\_AGREE'\n",
       "\\item 'CASE\\_STATUS'\n",
       "\\item 'BUFFER\\_DAYS'\n",
       "\\item 'BUFFER\\_DAYS\\_BOOL'\n",
       "\\item 'ABOVE\\_PW'\n",
       "\\end{enumerate*}\n"
      ],
      "text/markdown": [
       "1. 'VISA_CLASS'\n",
       "2. 'AGENT_REPRESENTING_EMPLOYER'\n",
       "3. 'TOTAL_WORKERS'\n",
       "4. 'NEW_EMPLOYMENT'\n",
       "5. 'CONTINUED_EMPLOYMENT'\n",
       "6. 'CHANGE_PREVIOUS_EMPLOYMENT'\n",
       "7. 'NEW_CONCURRENT_EMPLOYMENT'\n",
       "8. 'CHANGE_EMPLOYER'\n",
       "9. 'AMENDED_PETITION'\n",
       "10. 'FULL_TIME_POSITION'\n",
       "11. 'PW_WAGE_LEVEL'\n",
       "12. 'PW_SOURCE'\n",
       "13. 'WAGE_RATE_OF_PAY_FROM'\n",
       "14. 'H1B_DEPENDENT'\n",
       "15. 'WILLFUL_VIOLATOR'\n",
       "16. 'SUPPORT_H1B'\n",
       "17. 'LABOR_CON_AGREE'\n",
       "18. 'CASE_STATUS'\n",
       "19. 'BUFFER_DAYS'\n",
       "20. 'BUFFER_DAYS_BOOL'\n",
       "21. 'ABOVE_PW'\n",
       "\n",
       "\n"
      ],
      "text/plain": [
       " [1] \"VISA_CLASS\"                  \"AGENT_REPRESENTING_EMPLOYER\"\n",
       " [3] \"TOTAL_WORKERS\"               \"NEW_EMPLOYMENT\"             \n",
       " [5] \"CONTINUED_EMPLOYMENT\"        \"CHANGE_PREVIOUS_EMPLOYMENT\" \n",
       " [7] \"NEW_CONCURRENT_EMPLOYMENT\"   \"CHANGE_EMPLOYER\"            \n",
       " [9] \"AMENDED_PETITION\"            \"FULL_TIME_POSITION\"         \n",
       "[11] \"PW_WAGE_LEVEL\"               \"PW_SOURCE\"                  \n",
       "[13] \"WAGE_RATE_OF_PAY_FROM\"       \"H1B_DEPENDENT\"              \n",
       "[15] \"WILLFUL_VIOLATOR\"            \"SUPPORT_H1B\"                \n",
       "[17] \"LABOR_CON_AGREE\"             \"CASE_STATUS\"                \n",
       "[19] \"BUFFER_DAYS\"                 \"BUFFER_DAYS_BOOL\"           \n",
       "[21] \"ABOVE_PW\"                   "
      ]
     },
     "metadata": {},
     "output_type": "display_data"
    }
   ],
   "source": [
    "# load data\n",
    "df = read.csv(\"data/dataCleaned.csv\")\n",
    "\n",
    "# list features\n",
    "names(df)"
   ]
  },
  {
   "cell_type": "code",
   "execution_count": 3,
   "metadata": {},
   "outputs": [
    {
     "name": "stdout",
     "output_type": "stream",
     "text": [
      "'data.frame':\t99792 obs. of  21 variables:\n",
      " $ VISA_CLASS                 : Factor w/ 4 levels \"E-3 Australian\",..: 2 2 2 2 2 2 2 2 2 2 ...\n",
      " $ AGENT_REPRESENTING_EMPLOYER: Factor w/ 3 levels \"missing\",\"N\",..: 3 2 2 3 2 2 3 2 2 2 ...\n",
      " $ TOTAL_WORKERS              : int  1 1 1 1 1 1 1 1 1 1 ...\n",
      " $ NEW_EMPLOYMENT             : int  0 1 1 0 0 1 0 1 1 1 ...\n",
      " $ CONTINUED_EMPLOYMENT       : int  1 0 0 0 1 0 1 0 0 0 ...\n",
      " $ CHANGE_PREVIOUS_EMPLOYMENT : int  0 0 0 0 0 0 0 0 0 0 ...\n",
      " $ NEW_CONCURRENT_EMPLOYMENT  : int  0 0 0 0 0 0 0 0 0 0 ...\n",
      " $ CHANGE_EMPLOYER            : int  0 0 0 1 0 0 0 0 0 0 ...\n",
      " $ AMENDED_PETITION           : int  0 0 0 0 0 0 0 0 0 0 ...\n",
      " $ FULL_TIME_POSITION         : Factor w/ 2 levels \"N\",\"Y\": 2 2 2 2 2 2 2 2 2 2 ...\n",
      " $ PW_WAGE_LEVEL              : Factor w/ 5 levels \"Level I\",\"Level II\",..: 2 1 4 2 2 1 4 1 1 1 ...\n",
      " $ PW_SOURCE                  : Factor w/ 3 levels \"CBA\",\"OES\",\"Other\": 2 2 2 2 2 2 2 2 2 3 ...\n",
      " $ WAGE_RATE_OF_PAY_FROM      : num  90000 48000 79500 92000 88000 ...\n",
      " $ H1B_DEPENDENT              : Factor w/ 3 levels \"missing\",\"N\",..: 3 2 2 2 2 2 2 2 2 2 ...\n",
      " $ WILLFUL_VIOLATOR           : Factor w/ 3 levels \"missing\",\"N\",..: 2 2 2 2 2 2 2 2 2 2 ...\n",
      " $ SUPPORT_H1B                : Factor w/ 3 levels \"missing\",\"N\",..: 3 1 1 1 1 1 1 1 1 1 ...\n",
      " $ LABOR_CON_AGREE            : Factor w/ 3 levels \"missing\",\"N\",..: 3 1 1 1 3 1 1 1 1 3 ...\n",
      " $ CASE_STATUS                : Factor w/ 2 levels \"CERTIFIED\",\"DENIED\": 1 1 1 1 1 1 1 1 1 1 ...\n",
      " $ BUFFER_DAYS                : num  160 44 55 26 47 21 122 100 157 63 ...\n",
      " $ BUFFER_DAYS_BOOL           : Factor w/ 2 levels \"False\",\"True\": 2 2 2 2 2 2 2 2 2 2 ...\n",
      " $ ABOVE_PW                   : Factor w/ 2 levels \"False\",\"True\": 2 2 2 2 2 2 2 2 2 2 ...\n"
     ]
    }
   ],
   "source": [
    "# data structure\n",
    "str(df)"
   ]
  },
  {
   "cell_type": "markdown",
   "metadata": {},
   "source": [
    "## Statistical Test to check significance of Extracted Feature"
   ]
  },
  {
   "cell_type": "code",
   "execution_count": 4,
   "metadata": {},
   "outputs": [
    {
     "data": {
      "text/plain": [
       "\n",
       "\tPearson's Chi-squared test with Yates' continuity correction\n",
       "\n",
       "data:  table(df$ABOVE_PW, df$CASE_STATUS)\n",
       "X-squared = 21314, df = 1, p-value < 0.00000000000000022\n"
      ]
     },
     "metadata": {},
     "output_type": "display_data"
    }
   ],
   "source": [
    "# Categorical Feature ABOVE_PW\n",
    "chisq.test(table(df$ABOVE_PW,df$CASE_STATUS))"
   ]
  },
  {
   "cell_type": "code",
   "execution_count": 5,
   "metadata": {},
   "outputs": [
    {
     "data": {
      "text/plain": [
       "\n",
       "\tPearson's Chi-squared test with Yates' continuity correction\n",
       "\n",
       "data:  table(df$BUFFER_DAYS_BOOL, df$CASE_STATUS)\n",
       "X-squared = 1429, df = 1, p-value < 0.00000000000000022\n"
      ]
     },
     "metadata": {},
     "output_type": "display_data"
    }
   ],
   "source": [
    "# Categorical Feature BUFFER_DAYS_BOOL\n",
    "chisq.test(table(df$BUFFER_DAYS_BOOL,df$CASE_STATUS))"
   ]
  },
  {
   "cell_type": "code",
   "execution_count": 7,
   "metadata": {
    "scrolled": true
   },
   "outputs": [
    {
     "data": {
      "text/plain": [
       "\n",
       "\tWelch Two Sample t-test\n",
       "\n",
       "data:  df$BUFFER_DAYS by df$CASE_STATUS\n",
       "t = -44.074, df = 11400, p-value < 0.00000000000000022\n",
       "alternative hypothesis: true difference in means is not equal to 0\n",
       "95 percent confidence interval:\n",
       " -36.26973 -33.18094\n",
       "sample estimates:\n",
       "mean in group CERTIFIED    mean in group DENIED \n",
       "               45.52799                80.25332 \n"
      ]
     },
     "metadata": {},
     "output_type": "display_data"
    }
   ],
   "source": [
    "# Numerical Feature BUFFER_DAYS\n",
    "# t-test to check if mean is different for levels of CASE_STATUS\n",
    "t.test(df$BUFFER_DAYS~df$CASE_STATUS)"
   ]
  },
  {
   "cell_type": "markdown",
   "metadata": {},
   "source": [
    "## Statistical Test to check categorical columns"
   ]
  },
  {
   "cell_type": "code",
   "execution_count": 8,
   "metadata": {},
   "outputs": [
    {
     "data": {
      "text/plain": [
       "\n",
       "\tPearson's Chi-squared test\n",
       "\n",
       "data:  table(df$VISA_CLASS, df$CASE_STATUS)\n",
       "X-squared = 1623.8, df = 3, p-value < 0.00000000000000022\n"
      ]
     },
     "metadata": {},
     "output_type": "display_data"
    }
   ],
   "source": [
    "chisq.test(table(df$VISA_CLASS,df$CASE_STATUS))"
   ]
  },
  {
   "cell_type": "code",
   "execution_count": 9,
   "metadata": {},
   "outputs": [
    {
     "data": {
      "text/plain": [
       "\n",
       "\tPearson's Chi-squared test\n",
       "\n",
       "data:  table(df$AGENT_REPRESENTING_EMPLOYER, df$CASE_STATUS)\n",
       "X-squared = 13939, df = 2, p-value < 0.00000000000000022\n"
      ]
     },
     "metadata": {},
     "output_type": "display_data"
    }
   ],
   "source": [
    "chisq.test(table(df$AGENT_REPRESENTING_EMPLOYER,df$CASE_STATUS))"
   ]
  },
  {
   "cell_type": "code",
   "execution_count": 10,
   "metadata": {},
   "outputs": [
    {
     "data": {
      "text/plain": [
       "\n",
       "\tPearson's Chi-squared test with Yates' continuity correction\n",
       "\n",
       "data:  table(df$FULL_TIME_POSITION, df$CASE_STATUS)\n",
       "X-squared = 755.28, df = 1, p-value < 0.00000000000000022\n"
      ]
     },
     "metadata": {},
     "output_type": "display_data"
    }
   ],
   "source": [
    "chisq.test(table(df$FULL_TIME_POSITION,df$CASE_STATUS))"
   ]
  },
  {
   "cell_type": "code",
   "execution_count": 11,
   "metadata": {},
   "outputs": [
    {
     "data": {
      "text/plain": [
       "\n",
       "\tPearson's Chi-squared test\n",
       "\n",
       "data:  table(df$PW_WAGE_LEVEL, df$CASE_STATUS)\n",
       "X-squared = 9872.4, df = 4, p-value < 0.00000000000000022\n"
      ]
     },
     "metadata": {},
     "output_type": "display_data"
    }
   ],
   "source": [
    "chisq.test(table(df$PW_WAGE_LEVEL,df$CASE_STATUS))"
   ]
  },
  {
   "cell_type": "code",
   "execution_count": 12,
   "metadata": {},
   "outputs": [
    {
     "data": {
      "text/plain": [
       "\n",
       "\tPearson's Chi-squared test\n",
       "\n",
       "data:  table(df$PW_SOURCE, df$CASE_STATUS)\n",
       "X-squared = 1147.6, df = 2, p-value < 0.00000000000000022\n"
      ]
     },
     "metadata": {},
     "output_type": "display_data"
    }
   ],
   "source": [
    "chisq.test(table(df$PW_SOURCE,df$CASE_STATUS))"
   ]
  },
  {
   "cell_type": "code",
   "execution_count": 13,
   "metadata": {},
   "outputs": [
    {
     "data": {
      "text/plain": [
       "\n",
       "\tPearson's Chi-squared test\n",
       "\n",
       "data:  table(df$H1B_DEPENDENT, df$CASE_STATUS)\n",
       "X-squared = 2613.5, df = 2, p-value < 0.00000000000000022\n"
      ]
     },
     "metadata": {},
     "output_type": "display_data"
    }
   ],
   "source": [
    "chisq.test(table(df$H1B_DEPENDENT,df$CASE_STATUS))"
   ]
  },
  {
   "cell_type": "code",
   "execution_count": 14,
   "metadata": {},
   "outputs": [
    {
     "data": {
      "text/plain": [
       "\n",
       "\tPearson's Chi-squared test\n",
       "\n",
       "data:  table(df$WILLFUL_VIOLATOR, df$CASE_STATUS)\n",
       "X-squared = 1199.1, df = 2, p-value < 0.00000000000000022\n"
      ]
     },
     "metadata": {},
     "output_type": "display_data"
    }
   ],
   "source": [
    "chisq.test(table(df$WILLFUL_VIOLATOR,df$CASE_STATUS))"
   ]
  },
  {
   "cell_type": "code",
   "execution_count": 15,
   "metadata": {},
   "outputs": [
    {
     "data": {
      "text/plain": [
       "\n",
       "\tPearson's Chi-squared test\n",
       "\n",
       "data:  table(df$SUPPORT_H1B, df$CASE_STATUS)\n",
       "X-squared = 1726.5, df = 2, p-value < 0.00000000000000022\n"
      ]
     },
     "metadata": {},
     "output_type": "display_data"
    }
   ],
   "source": [
    "chisq.test(table(df$SUPPORT_H1B,df$CASE_STATUS))"
   ]
  },
  {
   "cell_type": "code",
   "execution_count": 16,
   "metadata": {},
   "outputs": [
    {
     "data": {
      "text/plain": [
       "\n",
       "\tPearson's Chi-squared test\n",
       "\n",
       "data:  table(df$LABOR_CON_AGREE, df$CASE_STATUS)\n",
       "X-squared = 990.32, df = 2, p-value < 0.00000000000000022\n"
      ]
     },
     "metadata": {},
     "output_type": "display_data"
    }
   ],
   "source": [
    "chisq.test(table(df$LABOR_CON_AGREE,df$CASE_STATUS))"
   ]
  },
  {
   "cell_type": "markdown",
   "metadata": {},
   "source": [
    "## Statistical Test to check numerical columns"
   ]
  },
  {
   "cell_type": "code",
   "execution_count": 21,
   "metadata": {
    "scrolled": false
   },
   "outputs": [
    {
     "name": "stdout",
     "output_type": "stream",
     "text": [
      "[1] \"TOTAL_WORKERS\"\n",
      "\n",
      "\tWelch Two Sample t-test\n",
      "\n",
      "data:  df[, n] by df$CASE_STATUS\n",
      "t = 5.6998, df = 13195, p-value = 0.00000001225\n",
      "alternative hypothesis: true difference in means is not equal to 0\n",
      "95 percent confidence interval:\n",
      " 0.2989856 0.6124142\n",
      "sample estimates:\n",
      "mean in group CERTIFIED    mean in group DENIED \n",
      "               2.809103                2.353403 \n",
      "\n",
      "[1] \"NEW_EMPLOYMENT\"\n",
      "\n",
      "\tWelch Two Sample t-test\n",
      "\n",
      "data:  df[, n] by df$CASE_STATUS\n",
      "t = -2.7065, df = 13173, p-value = 0.006809\n",
      "alternative hypothesis: true difference in means is not equal to 0\n",
      "95 percent confidence interval:\n",
      " -0.2676049 -0.0427981\n",
      "sample estimates:\n",
      "mean in group CERTIFIED    mean in group DENIED \n",
      "              0.8181171               0.9733186 \n",
      "\n",
      "[1] \"CONTINUED_EMPLOYMENT\"\n",
      "\n",
      "\tWelch Two Sample t-test\n",
      "\n",
      "data:  df[, n] by df$CASE_STATUS\n",
      "t = 8.1068, df = 15307, p-value = 0.0000000000000005588\n",
      "alternative hypothesis: true difference in means is not equal to 0\n",
      "95 percent confidence interval:\n",
      " 0.1585894 0.2597351\n",
      "sample estimates:\n",
      "mean in group CERTIFIED    mean in group DENIED \n",
      "              0.5940797               0.3849174 \n",
      "\n",
      "[1] \"CHANGE_PREVIOUS_EMPLOYMENT\"\n",
      "\n",
      "\tWelch Two Sample t-test\n",
      "\n",
      "data:  df[, n] by df$CASE_STATUS\n",
      "t = 2.8508, df = 12899, p-value = 0.004368\n",
      "alternative hypothesis: true difference in means is not equal to 0\n",
      "95 percent confidence interval:\n",
      " 0.02056473 0.11108365\n",
      "sample estimates:\n",
      "mean in group CERTIFIED    mean in group DENIED \n",
      "              0.2756510               0.2098268 \n",
      "\n",
      "[1] \"NEW_CONCURRENT_EMPLOYMENT\"\n",
      "\n",
      "\tWelch Two Sample t-test\n",
      "\n",
      "data:  df[, n] by df$CASE_STATUS\n",
      "t = -0.25718, df = 10401, p-value = 0.797\n",
      "alternative hypothesis: true difference in means is not equal to 0\n",
      "95 percent confidence interval:\n",
      " -0.012137993  0.009322399\n",
      "sample estimates:\n",
      "mean in group CERTIFIED    mean in group DENIED \n",
      "             0.01872913              0.02013693 \n",
      "\n",
      "[1] \"CHANGE_EMPLOYER\"\n",
      "\n",
      "\tWelch Two Sample t-test\n",
      "\n",
      "data:  df[, n] by df$CASE_STATUS\n",
      "t = 7.7079, df = 13105, p-value = 0.00000000000001371\n",
      "alternative hypothesis: true difference in means is not equal to 0\n",
      "95 percent confidence interval:\n",
      " 0.1435889 0.2415249\n",
      "sample estimates:\n",
      "mean in group CERTIFIED    mean in group DENIED \n",
      "              0.5142444               0.3216875 \n",
      "\n",
      "[1] \"AMENDED_PETITION\"\n",
      "\n",
      "\tWelch Two Sample t-test\n",
      "\n",
      "data:  df[, n] by df$CASE_STATUS\n",
      "t = 10.505, df = 14251, p-value < 0.00000000000000022\n",
      "alternative hypothesis: true difference in means is not equal to 0\n",
      "95 percent confidence interval:\n",
      " 0.2099489 0.3062664\n",
      "sample estimates:\n",
      "mean in group CERTIFIED    mean in group DENIED \n",
      "              0.5895615               0.3314539 \n",
      "\n",
      "[1] \"WAGE_RATE_OF_PAY_FROM\"\n",
      "\n",
      "\tWelch Two Sample t-test\n",
      "\n",
      "data:  df[, n] by df$CASE_STATUS\n",
      "t = -2.3685, df = 9971, p-value = 0.01788\n",
      "alternative hypothesis: true difference in means is not equal to 0\n",
      "95 percent confidence interval:\n",
      " -219643.38  -20716.17\n",
      "sample estimates:\n",
      "mean in group CERTIFIED    mean in group DENIED \n",
      "               101357.3                221537.1 \n",
      "\n",
      "[1] \"BUFFER_DAYS\"\n",
      "\n",
      "\tWelch Two Sample t-test\n",
      "\n",
      "data:  df[, n] by df$CASE_STATUS\n",
      "t = -44.074, df = 11400, p-value < 0.00000000000000022\n",
      "alternative hypothesis: true difference in means is not equal to 0\n",
      "95 percent confidence interval:\n",
      " -36.26973 -33.18094\n",
      "sample estimates:\n",
      "mean in group CERTIFIED    mean in group DENIED \n",
      "               45.52799                80.25332 \n",
      "\n"
     ]
    }
   ],
   "source": [
    "# t-test to check if mean is different for levels of CASE_STATUS\n",
    "for( n in names(df)[sapply(df,is.numeric)]){\n",
    "    print(n)\n",
    "    print(t.test(df[,n]~df$CASE_STATUS))\n",
    "}"
   ]
  }
 ],
 "metadata": {
  "kernelspec": {
   "display_name": "R",
   "language": "R",
   "name": "ir"
  },
  "language_info": {
   "codemirror_mode": "r",
   "file_extension": ".r",
   "mimetype": "text/x-r-source",
   "name": "R",
   "pygments_lexer": "r",
   "version": "3.4.2"
  }
 },
 "nbformat": 4,
 "nbformat_minor": 2
}
